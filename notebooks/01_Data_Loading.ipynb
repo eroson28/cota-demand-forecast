{
 "cells": [
  {
   "cell_type": "markdown",
   "id": "a97ed065",
   "metadata": {},
   "source": [
    "### Import libraries"
   ]
  },
  {
   "cell_type": "code",
   "execution_count": null,
   "id": "cd3ffafc",
   "metadata": {},
   "outputs": [],
   "source": [
    "import geopandas as gpd\n",
    "import pandas as pd\n",
    "import matplotlib.pyplot as plt\n",
    "import seaborn as sns\n",
    "\n",
    "plt.style.use('seaborn-v0_8-darkgrid')\n",
    "plt.rcParams['figure.figsize'] = (10, 6) # Set default figure size\n",
    "plt.rcParams['figure.dpi'] = 100 # Set default dots per inch for resolution\n",
    "\n",
    "print(\"Libraries imported successfully!\")"
   ]
  },
  {
   "cell_type": "markdown",
   "id": "cc7b4d18",
   "metadata": {},
   "source": [
    "### Define data import functions"
   ]
  },
  {
   "cell_type": "code",
   "execution_count": null,
   "id": "fcf0c417",
   "metadata": {},
   "outputs": [],
   "source": [
    "def load_csv(filepath, name, header_row=0, skip_rows_list=None):\n",
    "    \"\"\"\n",
    "    Loads a CSV file (typically Census data) with error handling and basic column cleanup.\n",
    "    \"\"\"\n",
    "    try:\n",
    "        df = pd.read_csv(filepath, header=header_row, skiprows=skip_rows_list)\n",
    "\n",
    "        print(f\"{name} loaded successfully from: {filepath}\")\n",
    "        print(f\"First 5 rows of {name}:\")\n",
    "        print(df.head())\n",
    "        print(f\"\\nInfo about {name} DataFrame:\")\n",
    "        print(df.info())\n",
    "        print(\"---\")\n",
    "        return df\n",
    "    except FileNotFoundError:\n",
    "        print(f\"Error: {name} file not found at {filepath}\")\n",
    "        return None\n",
    "    except Exception as e:\n",
    "        print(f\"Error loading {name} data from {filepath}: {e}\")\n",
    "        return None\n",
    "\n",
    "# Function to load GeoJSON/Shapefiles\n",
    "def load_geo_data(filepath, name):\n",
    "    try:\n",
    "        gdf = gpd.read_file(filepath)\n",
    "        print(f\"{name} loaded successfully from: {filepath}\")\n",
    "        print(f\"First 5 rows of {name}:\")\n",
    "        print(gdf.head())\n",
    "        print(f\"\\nInfo about {name} GeoDataFrame:\")\n",
    "        print(gdf.info())\n",
    "        print(\"---\")\n",
    "        return gdf\n",
    "    except FileNotFoundError:\n",
    "        print(f\"Error: {name} file not found at {filepath}\")\n",
    "        return None\n",
    "    except Exception as e:\n",
    "        print(f\"Error loading {name} data from {filepath}: {e}\")\n",
    "        return None\n",
    "\n",
    "print(\"--- Helper Functions Defined ---\")"
   ]
  },
  {
   "cell_type": "markdown",
   "id": "c7ba4f9d",
   "metadata": {},
   "source": [
    "### Load data"
   ]
  },
  {
   "cell_type": "code",
   "execution_count": null,
   "id": "a5a9662a",
   "metadata": {},
   "outputs": [],
   "source": [
    "# --- Load COTA Bus Stops Data ---\n",
    "cota_stops_path = \"../data/COTA/Stops_2023_09.shp\"\n",
    "cota_stops_gdf = load_geo_data(cota_stops_path, \"COTA Bus Stops\")"
   ]
  },
  {
   "cell_type": "code",
   "execution_count": null,
   "id": "02b294ee",
   "metadata": {},
   "outputs": [],
   "source": [
    "# --- Load Decennial Census 2020 DHC.P1 Data ---\n",
    "decennial_dhc_p1_path = \"../data/US_Census/DECENNIALDHC2020.P1-Data.csv\"\n",
    "decennial_dhc_p1_df = load_csv(decennial_dhc_p1_path, \"Decennial DHC2020.P1\", 1)"
   ]
  },
  {
   "cell_type": "code",
   "execution_count": null,
   "id": "840ea534",
   "metadata": {},
   "outputs": [],
   "source": [
    "# --- Load ACS 5-Year Estimate: S0101 (Age and Sex) ---\n",
    "acs_s0101_path = \"../data/US_Census/ACSST5Y2023.S0101-Data.csv\"\n",
    "acs_s0101_df = load_csv(acs_s0101_path, \"ACS S0101 (Age and Sex)\", 1)"
   ]
  },
  {
   "cell_type": "code",
   "execution_count": null,
   "id": "9be8337d",
   "metadata": {},
   "outputs": [],
   "source": [
    "# --- Load ACS 5-Year Estimate: B08101 (Means of Transportation to Work by Age) ---\n",
    "acs_b08101_path = \"../data/US_Census/ACSDT5Y2023.B08101-Data.csv\"\n",
    "acs_b08101_df = load_csv(acs_b08101_path, \"ACS B08101 (Transportation by Age)\", 1)"
   ]
  },
  {
   "cell_type": "code",
   "execution_count": null,
   "id": "39c2cda0",
   "metadata": {},
   "outputs": [],
   "source": [
    "# --- Load ACS 5-Year Estimate: B08119 (Means of Transportation to Work by Workers' Earnings) ---\n",
    "acs_b08119_path = \"../data/US_Census/ACSDT5Y2023.B08119-Data.csv\"\n",
    "acs_b08119_df = load_csv(acs_b08119_path, \"ACS B08119 (Transportation by Earnings)\", 1)"
   ]
  },
  {
   "cell_type": "code",
   "execution_count": null,
   "id": "e6361788",
   "metadata": {},
   "outputs": [],
   "source": [
    "# --- Load ACS 5-Year Estimate: B08122 (Means of Transportation to Work by Poverty Status) ---\n",
    "acs_b08122_path = \"../data/US_Census/ACSDT5Y2023.B08122-Data.csv\"\n",
    "acs_b08122_df = load_csv(acs_b08122_path, \"ACS B08122 (Transportation by Poverty)\", 1)"
   ]
  },
  {
   "cell_type": "code",
   "execution_count": null,
   "id": "d8feeb25",
   "metadata": {},
   "outputs": [],
   "source": [
    "# --- Load ACS 5-Year Estimate: B08141 (Means of Transportation to Work by Vehicles Available) ---\n",
    "acs_b08141_path = \"../data/US_Census/ACSDT5Y2023.B08141-Data.csv\"\n",
    "acs_b08141_df = load_csv(acs_b08141_path, \"ACS B08141 (Vehicles Available)\", 1)"
   ]
  },
  {
   "cell_type": "code",
   "execution_count": null,
   "id": "600e76fa",
   "metadata": {},
   "outputs": [],
   "source": [
    "# --- Load MORPC TAZ Forecast Data ---\n",
    "morpc_taz_path = \"../data/MORPC/TAZ20_OfficialMTP2024_Forecasts.shp\"\n",
    "morpc_taz_gdf = load_geo_data(morpc_taz_path, \"MORPC TAZ Forecasts\")"
   ]
  },
  {
   "cell_type": "code",
   "execution_count": null,
   "id": "d20f9034",
   "metadata": {},
   "outputs": [],
   "source": [
    "# --- Load FTA Monthly Ridership Data ---\n",
    "fta_ridership_path = \"../data/FTA/May2025_RawMonthlyRidership.xlsx\"\n",
    "\n",
    "try:\n",
    "    fta_ridership_df = pd.read_excel(fta_ridership_path, skiprows=0)\n",
    "    print(f\"FTA Monthly Ridership data loaded successfully from: {fta_ridership_path}\")\n",
    "    print(\"First 5 rows of FTA Monthly Ridership:\")\n",
    "    print(fta_ridership_df.head())\n",
    "    print(\"\\nInfo about FTA Monthly Ridership DataFrame:\")\n",
    "    print(fta_ridership_df.info())\n",
    "    print(\"---\")\n",
    "except FileNotFoundError:\n",
    "    print(f\"Error: FTA Monthly Ridership file not found at {fta_ridership_path}\")\n",
    "except Exception as e:\n",
    "    print(f\"Error loading FTA Monthly Ridership data from {fta_ridership_path}: {e}\")"
   ]
  },
  {
   "cell_type": "code",
   "execution_count": null,
   "id": "62a79bfc",
   "metadata": {},
   "outputs": [],
   "source": [
    "print(\"\\n--- All Data Loading Attempts Complete ---\")"
   ]
  }
 ],
 "metadata": {
  "kernelspec": {
   "display_name": "cota_transit_analysis",
   "language": "python",
   "name": "python3"
  },
  "language_info": {
   "codemirror_mode": {
    "name": "ipython",
    "version": 3
   },
   "file_extension": ".py",
   "mimetype": "text/x-python",
   "name": "python",
   "nbconvert_exporter": "python",
   "pygments_lexer": "ipython3",
   "version": "3.11.13"
  }
 },
 "nbformat": 4,
 "nbformat_minor": 5
}
