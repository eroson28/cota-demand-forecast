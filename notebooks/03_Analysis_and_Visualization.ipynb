{
 "cells": [
  {
   "cell_type": "markdown",
   "id": "ae5bb1ce",
   "metadata": {},
   "source": [
    "### Import libraries, define helper functions, load data"
   ]
  },
  {
   "cell_type": "code",
   "execution_count": null,
   "id": "faee2b65",
   "metadata": {},
   "outputs": [],
   "source": [
    "import geopandas as gpd\n",
    "import pandas as pd\n",
    "import matplotlib.pyplot as plt\n",
    "import seaborn as sns\n",
    "\n",
    "plt.style.use('seaborn-v0_8-darkgrid')\n",
    "plt.rcParams['figure.figsize'] = (10, 6) # Set default figure size\n",
    "plt.rcParams['figure.dpi'] = 100 # Set default dots per inch for resolution\n",
    "\n",
    "print(\"Libraries imported successfully!\")"
   ]
  },
  {
   "cell_type": "code",
   "execution_count": null,
   "id": "01b94e22",
   "metadata": {},
   "outputs": [],
   "source": [
    "def load_csv(filepath, name, header_row=0, skip_rows_list=None):\n",
    "    \"\"\"\n",
    "    Loads a CSV file (typically Census data) with error handling and basic column cleanup.\n",
    "    \"\"\"\n",
    "    try:\n",
    "        df = pd.read_csv(filepath, header=header_row, skiprows=skip_rows_list)\n",
    "        print(f\"{name} loaded successfully from: {filepath}\")\n",
    "        return df\n",
    "    except FileNotFoundError:\n",
    "        print(f\"Error: {name} file not found at {filepath}\")\n",
    "        return None\n",
    "    except Exception as e:\n",
    "        print(f\"Error loading {name} data from {filepath}: {e}\")\n",
    "        return None\n",
    "\n",
    "# Function to load GeoJSON/Shapefiles\n",
    "def load_geo_data(filepath, name):\n",
    "    try:\n",
    "        gdf = gpd.read_file(filepath)\n",
    "        print(f\"{name} loaded successfully from: {filepath}\")\n",
    "        return gdf\n",
    "    except FileNotFoundError:\n",
    "        print(f\"Error: {name} file not found at {filepath}\")\n",
    "        return None\n",
    "    except Exception as e:\n",
    "        print(f\"Error loading {name} data from {filepath}: {e}\")\n",
    "        return None\n",
    "\n",
    "print(\"--- Helper Functions Defined ---\")"
   ]
  },
  {
   "cell_type": "code",
   "execution_count": null,
   "id": "7dfe4bbf",
   "metadata": {},
   "outputs": [],
   "source": [
    "# --- Load COTA Bus Stops Data ---\n",
    "cota_stops_path = \"../data/COTA/Stops_2023_09.shp\"\n",
    "cota_stops_gdf = load_geo_data(cota_stops_path, \"COTA Bus Stops\")\n",
    "\n",
    "# --- Load Decennial Census 2020 DHC.P1 Data ---\n",
    "decennial_dhc_p1_path = \"../data/US_Census/DECENNIALDHC2020.P1-Data.csv\"\n",
    "decennial_dhc_p1_df = load_csv(decennial_dhc_p1_path, \"Decennial DHC2020.P1\", 1)\n",
    "\n",
    "# --- Load ACS 5-Year Estimate: S0101 (Age and Sex) ---\n",
    "acs_s0101_path = \"../data/US_Census/ACSST5Y2023.S0101-Data.csv\"\n",
    "acs_s0101_df = load_csv(acs_s0101_path, \"ACS S0101 (Age and Sex)\", 1)\n",
    "\n",
    "# --- Load ACS 5-Year Estimate: B08101 (Means of Transportation to Work by Age) ---\n",
    "acs_b08101_path = \"../data/US_Census/ACSDT5Y2023.B08101-Data.csv\"\n",
    "acs_b08101_df = load_csv(acs_b08101_path, \"ACS B08101 (Transportation by Age)\", 1)\n",
    "\n",
    "# --- Load ACS 5-Year Estimate: B08119 (Means of Transportation to Work by Workers' Earnings) ---\n",
    "acs_b08119_path = \"../data/US_Census/ACSDT5Y2023.B08119-Data.csv\"\n",
    "acs_b08119_df = load_csv(acs_b08119_path, \"ACS B08119 (Transportation by Earnings)\", 1)\n",
    "\n",
    "# --- Load ACS 5-Year Estimate: B08122 (Means of Transportation to Work by Poverty Status) ---\n",
    "acs_b08122_path = \"../data/US_Census/ACSDT5Y2023.B08122-Data.csv\"\n",
    "acs_b08122_df = load_csv(acs_b08122_path, \"ACS B08122 (Transportation by Poverty)\", 1)\n",
    "\n",
    "# --- Load ACS 5-Year Estimate: B08141 (Means of Transportation to Work by Vehicles Available) ---\n",
    "acs_b08141_path = \"../data/US_Census/ACSDT5Y2023.B08141-Data.csv\"\n",
    "acs_b08141_df = load_csv(acs_b08141_path, \"ACS B08141 (Vehicles Available)\", 1)\n",
    "\n",
    "# --- Load MORPC TAZ Forecast Data ---\n",
    "morpc_taz_path = \"../data/MORPC/TAZ20_OfficialMTP2024_Forecasts.shp\"\n",
    "morpc_taz_gdf = load_geo_data(morpc_taz_path, \"MORPC TAZ Forecasts\")\n",
    "\n",
    "# --- Load FTA Monthly Ridership Data ---\n",
    "fta_ridership_path = \"../data/FTA/May2025_RawMonthlyRidership.xlsx\"\n",
    "try:\n",
    "    fta_ridership_df = pd.read_excel(fta_ridership_path, skiprows=0)\n",
    "    print(f\"FTA Monthly Ridership data loaded successfully from: {fta_ridership_path}\")\n",
    "except FileNotFoundError:\n",
    "    print(f\"Error: FTA Monthly Ridership file not found at {fta_ridership_path}\")\n",
    "except Exception as e:\n",
    "    print(f\"Error loading FTA Monthly Ridership data from {fta_ridership_path}: {e}\")\n",
    "    \n",
    "print(\"\\n--- All Data Loading Attempts Complete ---\")"
   ]
  }
 ],
 "metadata": {
  "kernelspec": {
   "display_name": "cota_transit_analysis",
   "language": "python",
   "name": "python3"
  },
  "language_info": {
   "name": "python",
   "version": "3.11.13"
  }
 },
 "nbformat": 4,
 "nbformat_minor": 5
}
